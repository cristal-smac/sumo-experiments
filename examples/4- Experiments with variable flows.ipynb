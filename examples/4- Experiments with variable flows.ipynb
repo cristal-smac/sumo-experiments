{
 "cells": [
  {
   "cell_type": "markdown",
   "id": "fe37ddd6",
   "metadata": {},
   "source": [
    "# Experiments with variable flows"
   ]
  },
  {
   "cell_type": "markdown",
   "id": "016cc777",
   "metadata": {},
   "source": [
    "We saw in the previous tutorials how to run simulations with pre-set networks. You may have seen in the available parameters that the pre-set networks can be runned with flows defined in a matrix, and that can evolve during the simulation. In this tutorial, we're going to see how to run this simulations. We will use the `OneCrossroadNetwork` to explain this."
   ]
  },
  {
   "cell_type": "code",
   "execution_count": null,
   "id": "9a68f2b1",
   "metadata": {},
   "outputs": [],
   "source": [
    "from sumo_experiments import Experiment\n",
    "from sumo_experiments.preset_networks import OneCrossroadNetwork\n",
    "\n",
    "network = OneCrossroadNetwork()"
   ]
  },
  {
   "cell_type": "markdown",
   "id": "e695bfb3",
   "metadata": {},
   "source": [
    "## Generate variable flows with a matrix\n",
    "\n",
    "For every pre-set network, three flows functions are implemented : \n",
    "- `generate_flows_only_ahead` defines flows where vehicles can only go ahead at intersections.\n",
    "- `generate_flows_all_directions` defines flows where vehicles can go to every direction at intersections.\n",
    "- `generate_flows_with_matrix` defines flows following a schema described in a matrix.\n",
    "\n",
    "The first two functions use, among others, the parameters `stop_generation_time_XXX` and `flow_density_XXX` that define the flow density and the simulation step when flows will end. This setting can be set __only one time__. It's impossible to change this parameters during the simulation.\n",
    "\n",
    "As it can be useful to change flows during a simulation, to experiment the adaptation of traffic light behaviour for example, the library implements the `generate_flow_with_matrix` that creates flows evolving over time. Let's see how to use it.\n",
    "\n",
    "The functionning of the function is as following. We declare matrix whose first line is the **load vector**, and the other lines are the **proportion of flows that are using a specific route** (between 0 and 1). Thus, each column of the matrix is the setting for a part of the simulation (a period), a density of vehicle for the network, and the proportion of density using each route. The time of a period is defined as a **period time**, and is the same for each period of the simulation.\n",
    "\n",
    "The routes of a network are defined as couple entry-exit. In the pre-set networks, a vehicle can enter the network from each entry and leave it by any exit (except the one it has entered). For example, the `OneCrossroadNetwork`, which is the simpliest pre-set network, has 4 entry and 4 exit. Then, the total number of routes is 12 (4\\*3). For a SquareNetwork with side length of 5 entries, this number rise to 380.\n",
    "\n",
    "The order of the routes in the matrix is as following : the first line represents the most north-west entry, and the exit is the first exit clockwise. We then iterate over all exits clockwise. The next entry is the next entry clockwise, and we repeat the procedure. For exemple, for the `OneCrossroadNetwork`, the 12 lines matrix must have the following order (entry / exit):\n",
    "1) North / East\n",
    "2) North / South\n",
    "3) North / West\n",
    "4) East / South\n",
    "5) East / West\n",
    "6) East / North\n",
    "7) South / West\n",
    "8) South / North\n",
    "9) South / East\n",
    "10) West / North\n",
    "11) West / East\n",
    "12) West / South\n",
    "\n",
    "The code below shows an implementation of an Experiment where flows are defined by a load vector and a matrix of coefficient. We define 3 period of time. A period last 300 simulation steps. For the first period, the flows are distributed equally between each route. For the second period, only routes that start by the north entry or the south entry are activated. The repartition of flows between routes is set equally. Then, in the third and last period, we set behaviour as previously, but with the west and east entries. The density of vehicles will start at 300 vehicles per hour for the first period, and will evolve to 200 for the last two periods."
   ]
  },
  {
   "cell_type": "code",
   "execution_count": null,
   "id": "74c9096c",
   "metadata": {},
   "outputs": [],
   "source": [
    "import numpy as np\n",
    "\n",
    "period_time = 300\n",
    "\n",
    "load_vector = np.array([300, 200, 200]) # Load vector : each value represents a density for a period\n",
    "\n",
    "coeff_matrix = np.array([\n",
    "    [0.0833, 0.1666, 0.0001], # Proportion of density for the route North / East\n",
    "    [0.0833, 0.1666, 0.0001], # Proportion of density for the route North / South\n",
    "    [0.0833, 0.1666, 0.0001], # Proportion of density for the route North / West\n",
    "    [0.0833, 0.0001, 0.1666], # Proportion of density for the route East / South\n",
    "    [0.0833, 0.0001, 0.1666], # Proportion of density for the route East / West\n",
    "    [0.0833, 0.0001, 0.1666], # Proportion of density for the route East / North\n",
    "    [0.0833, 0.1666, 0.0001], # Proportion of density for the route South / West\n",
    "    [0.0833, 0.1666, 0.0001], # Proportion of density for the route South / North\n",
    "    [0.0833, 0.1666, 0.0001], # Proportion of density for the route South / East\n",
    "    [0.0833, 0.0001, 0.1666], # Proportion of density for the route West / North\n",
    "    [0.0833, 0.0001, 0.1666], # Proportion of density for the route West / East\n",
    "    [0.0833, 0.0001, 0.1666], # Proportion of density for the route West / South\n",
    "])\n",
    "\n",
    "exp_matrix = Experiment(\n",
    "    name = 'matrix',\n",
    "    infrastructures = network.generate_infrastructures,\n",
    "    flows = network.generate_flows_with_matrix\n",
    ")\n",
    "\n",
    "exp_matrix.set_parameter('period_time', period_time)\n",
    "exp_matrix.set_parameter('load_vector', load_vector)\n",
    "exp_matrix.set_parameter('coeff_matrix', coeff_matrix)\n",
    "\n",
    "exp_matrix.run(gui=True)\n",
    "\n",
    "exp_matrix.clean_files()"
   ]
  },
  {
   "cell_type": "markdown",
   "id": "56cc360a",
   "metadata": {},
   "source": [
    "***Note :** SUMO doesn't allow to modify flows when they are defined. To solve this problem, sumo-experiments generates flows for each period, that start at the beginning and last until the the end of the period. Although there are 12 routes in the previous example, sumo-experiments generates actually 36 routes for the entire simulation.*"
   ]
  },
  {
   "cell_type": "markdown",
   "id": "35868f29",
   "metadata": {},
   "source": [
    "## Generate flows with a CSV file\n",
    "\n",
    "We saw previously how to define variable flows with matrices, with numpy.array objects. This allows to generate matrices and use it. But, in some case, you may want to save persistent flow data, in a CSV file for example, and use it in different experiments. In order to use persistant data, sumo-experiments implements a function `import_flows_parameters_from_csv` that read a CSV file with flow data, and returns a load vector and a coefficient matrix. The function is located in the `util` subpackage.\n",
    "\n",
    "The CSV file must be in that shape :\n",
    "- The first line is the load vector, of size $x$.\n",
    "- The rest of the file is the coeff matrix, of shape ($y$, $x$).\n",
    "- No other data in the file.\n",
    "\n",
    "The default separator for the data is the comma, but another one can be set using the function."
   ]
  },
  {
   "cell_type": "code",
   "execution_count": null,
   "id": "4a07be41",
   "metadata": {},
   "outputs": [],
   "source": [
    "from sumo_experiments.util import import_flows_parameters_from_csv\n",
    "\n",
    "load_vector = np.array([300, 200, 200]) # Load vector : each value represents a density for a period\n",
    "\n",
    "coeff_matrix = np.array([\n",
    "    [0.0833, 0.1666, 0.0001], # Proportion of density for the route North / East\n",
    "    [0.0833, 0.1666, 0.0001], # Proportion of density for the route North / South\n",
    "    [0.0833, 0.1666, 0.0001], # Proportion of density for the route North / West\n",
    "    [0.0833, 0.0001, 0.1666], # Proportion of density for the route East / South\n",
    "    [0.0833, 0.0001, 0.1666], # Proportion of density for the route East / West\n",
    "    [0.0833, 0.0001, 0.1666], # Proportion of density for the route East / North\n",
    "    [0.0833, 0.1666, 0.0001], # Proportion of density for the route South / West\n",
    "    [0.0833, 0.1666, 0.0001], # Proportion of density for the route South / North\n",
    "    [0.0833, 0.1666, 0.0001], # Proportion of density for the route South / East\n",
    "    [0.0833, 0.0001, 0.1666], # Proportion of density for the route West / North\n",
    "    [0.0833, 0.0001, 0.1666], # Proportion of density for the route West / East\n",
    "    [0.0833, 0.0001, 0.1666], # Proportion of density for the route West / South\n",
    "])\n",
    "\n",
    "to_csv = np.vstack((load_vector, coeff_matrix))\n",
    "np.savetxt(\"tuto_4.csv\", to_csv, delimiter=\",\")\n",
    "\n",
    "load_vector_2, coeff_matrix_2 = import_flows_parameters_from_csv('tuto_4.csv')\n",
    "\n",
    "print((load_vector == load_vector_2).all())\n",
    "print((coeff_matrix == coeff_matrix_2).all())"
   ]
  },
  {
   "cell_type": "markdown",
   "id": "8f51a287",
   "metadata": {},
   "source": [
    "The load vector and the coefficient matrix extracted from the `import_flows_parameters_from_csv` can then be used to custom an experiment."
   ]
  },
  {
   "cell_type": "code",
   "execution_count": null,
   "id": "7d63a118",
   "metadata": {},
   "outputs": [],
   "source": [
    "period_time = 300\n",
    "\n",
    "exp_matrix = Experiment(\n",
    "    name = 'matrix_2',\n",
    "    infrastructures = network.generate_infrastructures,\n",
    "    flows = network.generate_flows_with_matrix\n",
    ")\n",
    "\n",
    "exp_matrix.set_parameter('period_time', period_time)\n",
    "exp_matrix.set_parameter('load_vector', load_vector_2)\n",
    "exp_matrix.set_parameter('coeff_matrix', coeff_matrix_2)\n",
    "\n",
    "exp_matrix.run(gui=True)\n",
    "\n",
    "exp_matrix.clean_files()"
   ]
  },
  {
   "cell_type": "code",
   "execution_count": null,
   "id": "4d696be9",
   "metadata": {},
   "outputs": [],
   "source": [
    "!rm tuto_4.csv"
   ]
  }
 ],
 "metadata": {
  "kernelspec": {
   "display_name": "Python 3 (ipykernel)",
   "language": "python",
   "name": "python3"
  },
  "language_info": {
   "codemirror_mode": {
    "name": "ipython",
    "version": 3
   },
   "file_extension": ".py",
   "mimetype": "text/x-python",
   "name": "python",
   "nbconvert_exporter": "python",
   "pygments_lexer": "ipython3",
   "version": "3.10.12"
  }
 },
 "nbformat": 4,
 "nbformat_minor": 5
}
