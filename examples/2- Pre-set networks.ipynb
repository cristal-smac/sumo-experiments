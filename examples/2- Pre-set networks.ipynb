{
 "cells": [
  {
   "cell_type": "markdown",
   "id": "0807871a",
   "metadata": {},
   "source": [
    "# Pre-set networks\n",
    "\n",
    "To speed up experimentation, but above all to ensure better reproducibility of experiments, pre-designed networks have been implemented in sumo-experiments. There are currently three types of pre-designed network :\n",
    "- A network composed with only one intersection (OneCrossroadNetwork)\n",
    "- A network composed of $n$ intersections arranged in a line (LineNetwork)\n",
    "- A network composed of $n$ crossroads arranged in a square (SquareNetwork)\n",
    "\n",
    "Each network is represented by a class in the `preset_networks` package. The classes contains methods that generates infrastructures, flows, and all add-ons that can be added to a network.\n",
    "\n",
    "***Note :** For now, only detectors can be added to a pre-set network. Adding new features is one of our priority.*\n",
    "\n",
    "Let's see how we create a simulation with a pre-set network. Wi will use the `OneCrossroadNetwork` to do this.\n",
    "\n",
    "First, we must instanciate the preset network."
   ]
  },
  {
   "cell_type": "code",
   "execution_count": 4,
   "id": "08b949b7",
   "metadata": {},
   "outputs": [],
   "source": [
    "from sumo_experiments.preset_networks import OneCrossroadNetwork\n",
    "\n",
    "network = OneCrossroadNetwork()"
   ]
  },
  {
   "cell_type": "markdown",
   "id": "fa0c956b",
   "metadata": {},
   "source": [
    "## Pre-set functions"
   ]
  },
  {
   "cell_type": "markdown",
   "id": "8a36a736",
   "metadata": {},
   "source": [
    "### Infrastructures\n",
    "\n",
    "Each class contains one method that generates infrastructures (`generate_infrastructures`). It is the function that you must use to create an Experiment. This function return an `InfrastructureBuilder` object, containing all the infrastructures needed for the definition of the network (nodes, edges, connections, traffic light programs). Thus, in this example with the `OneCrossroadNetwork`, the function will return an object containing 5 nodes (including 1 traffic light), 8 edges (4 * 2 directions), and 12 connections.\n",
    "\n",
    "***Note :** The SquareNetwork class also implements a `generate_random_infrastructures` method. It also implements a square network, but with random road length (between the config parameters `minimum_edge_length` and `maximum_edge_length`).*"
   ]
  },
  {
   "cell_type": "markdown",
   "id": "167f4aa7",
   "metadata": {},
   "source": [
    "### Flows\n",
    "\n",
    "Each class contains three methods to define flows for the network :\n",
    "- The `generate_flows_only_ahead` method generates flows of vehicles that enter from an entry and can only leave the network by the opposite exit. This makes the vehicles unable to turn at intersections.\n",
    "- The `generate_flows_all_directions` method generates flows for each entry, and the vehicles can leave the network by any exit (except the one that is related to the entry). Vehicles can then turn at intersections.\n",
    "- The `generate_flows_with_matrix` method generate variable flows over time that can go anywhere in the intersections. We'll see this in a future section.\n",
    "\n",
    "Each method returns a `FlowBuilder` object containing all the flows and informations about it (flow entry, exit, frequency, vehicle type)."
   ]
  },
  {
   "cell_type": "markdown",
   "id": "b76c3d3d",
   "metadata": {},
   "source": [
    "Let's do some graphical experiments to show you the difference between the `generate_flows_only_ahead` and the `generate_flows_all_directions`. As you can see, "
   ]
  },
  {
   "cell_type": "code",
   "execution_count": 6,
   "id": "bffab841",
   "metadata": {
    "scrolled": true
   },
   "outputs": [
    {
     "name": "stderr",
     "output_type": "stream",
     "text": [
      "Warning: Speed of turning connection 'edge_nc_0->edge_cw_0' reduced by 23.49 due to turning radius of 7.70 (length=9.03, angle=90.00).\n",
      "Warning: Speed of turning connection 'edge_ec_0->edge_cn_0' reduced by 23.49 due to turning radius of 7.70 (length=9.03, angle=90.00).\n",
      "Warning: Speed of turning connection 'edge_sc_0->edge_ce_0' reduced by 23.49 due to turning radius of 7.70 (length=9.03, angle=90.00).\n",
      "Warning: Speed of turning connection 'edge_wc_0->edge_cs_0' reduced by 23.49 due to turning radius of 7.70 (length=9.03, angle=90.00).\n",
      "Warning: Speed of turning connection 'edge_nc_0->edge_cw_0' reduced by 23.49 due to turning radius of 7.70 (length=9.03, angle=90.00).\n",
      "Warning: Speed of turning connection 'edge_ec_0->edge_cn_0' reduced by 23.49 due to turning radius of 7.70 (length=9.03, angle=90.00).\n",
      "Warning: Speed of turning connection 'edge_sc_0->edge_ce_0' reduced by 23.49 due to turning radius of 7.70 (length=9.03, angle=90.00).\n",
      "Warning: Speed of turning connection 'edge_wc_0->edge_cs_0' reduced by 23.49 due to turning radius of 7.70 (length=9.03, angle=90.00).\n"
     ]
    },
    {
     "name": "stdout",
     "output_type": "stream",
     "text": [
      "Success.\n",
      "Success.\n"
     ]
    },
    {
     "name": "stderr",
     "output_type": "stream",
     "text": [
      "Warning: Speed of turning connection 'edge_nc_0->edge_cw_0' reduced by 23.49 due to turning radius of 7.70 (length=9.03, angle=90.00).\n",
      "Warning: Speed of turning connection 'edge_ec_0->edge_cn_0' reduced by 23.49 due to turning radius of 7.70 (length=9.03, angle=90.00).\n",
      "Warning: Speed of turning connection 'edge_sc_0->edge_ce_0' reduced by 23.49 due to turning radius of 7.70 (length=9.03, angle=90.00).\n",
      "Warning: Speed of turning connection 'edge_wc_0->edge_cs_0' reduced by 23.49 due to turning radius of 7.70 (length=9.03, angle=90.00).\n",
      "Warning: Speed of turning connection 'edge_nc_0->edge_cw_0' reduced by 23.49 due to turning radius of 7.70 (length=9.03, angle=90.00).\n",
      "Warning: Speed of turning connection 'edge_ec_0->edge_cn_0' reduced by 23.49 due to turning radius of 7.70 (length=9.03, angle=90.00).\n",
      "Warning: Speed of turning connection 'edge_sc_0->edge_ce_0' reduced by 23.49 due to turning radius of 7.70 (length=9.03, angle=90.00).\n",
      "Warning: Speed of turning connection 'edge_wc_0->edge_cs_0' reduced by 23.49 due to turning radius of 7.70 (length=9.03, angle=90.00).\n"
     ]
    },
    {
     "name": "stdout",
     "output_type": "stream",
     "text": [
      "Success.\n",
      "Success.\n"
     ]
    }
   ],
   "source": [
    "from sumo_experiments import Experiment\n",
    "\n",
    "exp_only_ahead = Experiment(\n",
    "    name = 'only_ahead',\n",
    "    infrastructures = network.generate_infrastructures,\n",
    "    flows = network.generate_flows_only_ahead\n",
    ")\n",
    "\n",
    "exp_only_ahead.set_parameter('lane_length', 150)\n",
    "exp_only_ahead.set_parameter('max_speed', 30)\n",
    "exp_only_ahead.set_parameter('flow_frequency', 100)\n",
    "exp_only_ahead.set_parameter('green_time_north_south', 15)\n",
    "exp_only_ahead.set_parameter('green_time_west_east', 45)\n",
    "exp_only_ahead.set_parameter('yellow_time', 3)\n",
    "exp_only_ahead.set_parameter('stop_generation_time', 900)\n",
    "exp_only_ahead.set_parameter('distribution', 'binomial')\n",
    "exp_only_ahead.set_parameter('simulation_duration', 1000)\n",
    "\n",
    "exp_all_directions = Experiment(\n",
    "    name = 'all_directions',\n",
    "    infrastructures = network.generate_infrastructures,\n",
    "    flows = network.generate_flows_all_directions\n",
    ")\n",
    "\n",
    "exp_all_directions.set_parameter('lane_length', 150)\n",
    "exp_all_directions.set_parameter('max_speed', 30)\n",
    "exp_all_directions.set_parameter('flow_frequency', 100)\n",
    "exp_all_directions.set_parameter('green_time_north_south', 15)\n",
    "exp_all_directions.set_parameter('green_time_west_east', 45)\n",
    "exp_all_directions.set_parameter('yellow_time', 3)\n",
    "exp_all_directions.set_parameter('stop_generation_time', 900)\n",
    "exp_all_directions.set_parameter('distribution', 'binomial')\n",
    "exp_all_directions.set_parameter('simulation_duration', 1000)\n",
    "\n",
    "exp_only_ahead.run(gui = True)\n",
    "exp_all_directions.run(gui = True)\n",
    "\n",
    "exp_only_ahead.clean_files()\n",
    "exp_all_directions.clean_files()"
   ]
  },
  {
   "cell_type": "markdown",
   "id": "2207d7a5",
   "metadata": {},
   "source": [
    "***Note :** As we mentioned previously, the methods that generates sumo elements (infrastructures, flows, and all other) __are the parameter of the Experiment instantiation, and not their result__. The methods will then be used in the Experiments methods, with a config dict.*"
   ]
  },
  {
   "cell_type": "markdown",
   "id": "12eba27a",
   "metadata": {},
   "source": [
    "### Detectors\n",
    "\n",
    "Optionally, you can add detectors to the intersections of a network to adapt their operation to the traffic. While detectors can be added when generating the pre-set network, adapting the behavior of traffic lights is more complex and will be the subject of another tutorial.\n",
    "\n",
    "Each pre-set network has two methods to generate detectors :\n",
    "- `generate_boolean_detectors` generates short-range detectors that check if a car is its range or not.\n",
    "- `generate_numerical_detectors` generates long-range detectors (all of the edge) that are supposed to count vehicles that are on its range.\n",
    "\n",
    "The detectors generates data that can be used by the TraCi library to modify the traffic lights behaviour.\n",
    "\n",
    "To add detectors to a network, just add the `detectors` parameter to an experiment, with the right function to use to generate it."
   ]
  },
  {
   "cell_type": "code",
   "execution_count": 7,
   "id": "c6a8e435",
   "metadata": {},
   "outputs": [
    {
     "name": "stderr",
     "output_type": "stream",
     "text": [
      "Warning: Speed of turning connection 'edge_nc_0->edge_cw_0' reduced by 23.49 due to turning radius of 7.70 (length=9.03, angle=90.00).\n",
      "Warning: Speed of turning connection 'edge_ec_0->edge_cn_0' reduced by 23.49 due to turning radius of 7.70 (length=9.03, angle=90.00).\n",
      "Warning: Speed of turning connection 'edge_sc_0->edge_ce_0' reduced by 23.49 due to turning radius of 7.70 (length=9.03, angle=90.00).\n",
      "Warning: Speed of turning connection 'edge_wc_0->edge_cs_0' reduced by 23.49 due to turning radius of 7.70 (length=9.03, angle=90.00).\n",
      "Warning: Speed of turning connection 'edge_nc_0->edge_cw_0' reduced by 23.49 due to turning radius of 7.70 (length=9.03, angle=90.00).\n",
      "Warning: Speed of turning connection 'edge_ec_0->edge_cn_0' reduced by 23.49 due to turning radius of 7.70 (length=9.03, angle=90.00).\n",
      "Warning: Speed of turning connection 'edge_sc_0->edge_ce_0' reduced by 23.49 due to turning radius of 7.70 (length=9.03, angle=90.00).\n",
      "Warning: Speed of turning connection 'edge_wc_0->edge_cs_0' reduced by 23.49 due to turning radius of 7.70 (length=9.03, angle=90.00).\n"
     ]
    },
    {
     "name": "stdout",
     "output_type": "stream",
     "text": [
      "Success.\n",
      "Success.\n"
     ]
    }
   ],
   "source": [
    "exp_detectors = Experiment(\n",
    "    name = 'detectors',\n",
    "    infrastructures = network.generate_infrastructures,\n",
    "    flows = network.generate_flows_all_directions,\n",
    "    detectors = network.generate_boolean_detectors\n",
    ")\n",
    "\n",
    "exp_detectors.set_parameter('lane_length', 150)\n",
    "exp_detectors.set_parameter('max_speed', 30)\n",
    "exp_detectors.set_parameter('flow_frequency', 100)\n",
    "exp_detectors.set_parameter('green_time_north_south', 15)\n",
    "exp_detectors.set_parameter('green_time_west_east', 45)\n",
    "exp_detectors.set_parameter('yellow_time', 3)\n",
    "exp_detectors.set_parameter('stop_generation_time', 900)\n",
    "exp_detectors.set_parameter('distribution', 'binomial')\n",
    "exp_detectors.set_parameter('simulation_duration', 1000)\n",
    "exp_detectors.set_parameter('boolean_detector_length', 10)\n",
    "\n",
    "exp_detectors.run(gui=True)\n",
    "\n",
    "exp_detectors.clean_files()"
   ]
  },
  {
   "cell_type": "markdown",
   "id": "ee0ea11b",
   "metadata": {},
   "source": [
    "***Note :** Some other feautures should be added in the future, like pedestrians, bicycles, etc.*"
   ]
  },
  {
   "cell_type": "markdown",
   "id": "e221ad52",
   "metadata": {},
   "source": [
    "## Parameters\n",
    "\n",
    "In any of the Experiment we've made until here, we set some parameters. These parameters are the data that specify the shape and the behaviour of all SUMO elements. Until sumo-experiments 2.0.0, default configurations were implemented to quickly create simulations. This content was deleted because of the misunderstanding that it can create about the network. The mindset we are trying to establish with this change is : \"If you set manually all parameters, then you know exactly what you set\".\n",
    "\n",
    "In order to do so, we must use the `set_parameter` method from the `Experiment` class. Parameters are added into a dictionnary in the `Experiment` object. Then, you can add paremeters in the order you  want. You can also add parameters that can not be use by the pre-set functions. In this case, the `run` method will return a warning when called.\n",
    "\n",
    "Each pre-set network has its own parameters, with some in common with other networks. Here is a list for each of the pre-set networks implemented."
   ]
  },
  {
   "cell_type": "markdown",
   "id": "1990e8e3",
   "metadata": {},
   "source": [
    "### OneCrossroadNetwork\n",
    "\n",
    "#### Infrastructures\n",
    "\n",
    "- `lane_length` (int) : The default length for each lane (in meters)\n",
    "- `north_length` (int) : The north lane length (in meters), override default\n",
    "- `east_length` (int) : The east lane length (in meters), override default\n",
    "- `south_length` (int) : The south lane length (in meters), override default\n",
    "- `west_length` (int) : The west lane length (in meters), override default\n",
    "- `green_time` (int) : The default green time for each phase (in seconds)\n",
    "- `green_time_north_south` (int) : The north-south phase green time (in seconds), override default\n",
    "- `green_time_west_east` (int) : The west-east phase green time (in seconds), override default\n",
    "- `yellow_time` (int) : The default yellow time for each phase (in seconds)\n",
    "- `yellow_time_north_south` (int) : The north-south phase yellow time (in seconds), override default\n",
    "- `yellow_time_west_east` (int) : The west-east phase yellow time (in seconds), override default\n",
    "- `max_speed` (float) : The max speed on each lane (in km/h)\n",
    "\n",
    "#### Flows\n",
    "\n",
    "- `stop_generation_time` (int) : The default simulation step when flows will end\n",
    "- `stop_generation_time_north` (int) : The simulation step when north flows will end, override default\n",
    "- `stop_generation_time_east` (int) : The simulation step when east flows will end, override default\n",
    "- `stop_generation_time_south` (int) : The simulation step when south flows will end, override default\n",
    "- `stop_generation_time_west` (int) : The simulation step when west flows will end, override default\n",
    "- `flow_frequency` (int) : The default flows frequency (in vehicles/hour/entry)\n",
    "- `flow_frequency_north` (int) : The north flows frequency (in vehicles/hour), override default\n",
    "- `flow_frequency_east` (int) : The east flows frequency (in vehicles/hour), override default\n",
    "- `flow_frequency_south` (int) : The south flows frequency (in vehicles/hour), override default\n",
    "- `flow_frequency_west` (int) : The west flows frequency (in vehicles/hour), override default\n",
    "- `distribution` (str) : The distribution law for all flows. 'uniform' inserts vehicles each n simulation steps 'binomial' inserts vehicle at each simulation step with a given probability. Each of the law respect the flow frequency.\n",
    "\n",
    "##### With matrices\n",
    "\n",
    "- `coeff_matrix` (numpy.ndarray) : The proportion of vehicles on each route\n",
    "- `load_vector` (numpy.ndarray) : The vehicle frequency on the network for each period\n",
    "- `period_time` (int) : The period duration (in simulation steps)\n",
    "\n",
    "#### Detectors\n",
    "\n",
    "- `boolean_detector_length` (float) : The scope size of the detectors"
   ]
  },
  {
   "cell_type": "markdown",
   "id": "f9f96d1d",
   "metadata": {},
   "source": [
    "### LineNetwork\n",
    "\n",
    "#### Infrastructures\n",
    "\n",
    "- `lane_length` (int) : The default length for each lane (in meters)\n",
    "- `green_time` (int) : The default green time for each phase (in seconds)\n",
    "- `yellow_time` (int) : The default yellow time for each phase (in seconds)\n",
    "- `max_speed` (float) : The max speed on each lane (in km/h)\n",
    "- `nb_intersections` (int >= 2) : The number of intersections of the network\n",
    "\n",
    "#### Flows\n",
    "\n",
    "- `stop_generation_time` (int) : The default simulation step when flows will end\n",
    "- `flow_frequency` (int) : The default flows frequency (in vehicles/hour/entry)\n",
    "- `distribution` (str) : The distribution law for all flows. 'uniform' inserts vehicles each n simulation steps 'binomial' inserts vehicle at each simulation step with a given probability. Each of the law respect the flow frequency.\n",
    "\n",
    "##### With matrices\n",
    "\n",
    "- `coeff_matrix` (numpy.ndarray) : The proportion of vehicles on each route\n",
    "- `load_vector` (numpy.ndarray) : The vehicle frequency on the network for each period\n",
    "- `period_time` (int) : The period duration (in simulation steps)\n",
    "\n",
    "#### Detectors\n",
    "\n",
    "- `boolean_detector_length` (float) : The scope size of the detectors"
   ]
  },
  {
   "cell_type": "markdown",
   "id": "d5b7810e",
   "metadata": {},
   "source": [
    "### SquareNetwork\n",
    "\n",
    "#### Infrastructures\n",
    "\n",
    "- `lane_length` (int) : The length of all edges (in meters)\n",
    "- `green_time` (int) : The default green time for each phase (in seconds)\n",
    "- `yellow_time` (int) : The default yellow time for each phase (in seconds)lt\n",
    "- `max_speed` (float) : The max speed on each lane (in km/h)\n",
    "- `square_side_length` (int) : The number of intersections that compose a side of the square\n",
    "\n",
    "##### For random square network\n",
    "\n",
    "- `minimum_edge_length` (int) : The minimum length of an edge (in meters)\n",
    "- `maximum_edge_length` (int) : The maximum length of an edge (in meters)\n",
    "\n",
    "#### Flows\n",
    "\n",
    "- `stop_generation_time` (int) : The default simulation step when flows will end\n",
    "- `flow_frequency` (int) : The default flows frequency (in vehicles/hour/lane)\n",
    "- `distribution` (str) : The distribution law for all flows. 'uniform' inserts vehicles each n simulation steps 'binomial' inserts vehicle at each simulation step with a given probability. Each of the law respect the flow frequency.\n",
    "\n",
    "##### With matrices\n",
    "\n",
    "- `coeff_matrix` (numpy.ndarray) : The proportion of vehicles on each route\n",
    "- `load_vector` (numpy.ndarray) : The vehicle frequency on the network for each period\n",
    "- `period_time` (int) : The period duration (in simulation steps)\n",
    "\n",
    "#### Detectors\n",
    "\n",
    "- `boolean_detector_length` (float) : The scope size of the detectors"
   ]
  },
  {
   "cell_type": "markdown",
   "id": "b4115eec",
   "metadata": {},
   "source": [
    "**In the next tutorial, we'll see how to create experiments with variable flows, using the `generate_flows_with_matrix` from a pre-set network object.**"
   ]
  }
 ],
 "metadata": {
  "kernelspec": {
   "display_name": "Python 3 (ipykernel)",
   "language": "python",
   "name": "python3"
  },
  "language_info": {
   "codemirror_mode": {
    "name": "ipython",
    "version": 3
   },
   "file_extension": ".py",
   "mimetype": "text/x-python",
   "name": "python",
   "nbconvert_exporter": "python",
   "pygments_lexer": "ipython3",
   "version": "3.10.12"
  }
 },
 "nbformat": 4,
 "nbformat_minor": 5
}
