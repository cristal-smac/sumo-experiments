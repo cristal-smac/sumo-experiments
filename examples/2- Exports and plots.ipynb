{
 "cells": [
  {
   "cell_type": "markdown",
   "id": "b308f88a",
   "metadata": {},
   "source": [
    "# Exports and plots\n",
    "\n",
    "The sumo-experiments library implements some methods and functions to export and plot the results from a SUMO simulation. The original results files are encoded in an XML format, and this has two defaults : this format is not very human-readable, and the export capacities are low (especially for spreadsheet applications).\n",
    "\n",
    "Once the data exported, it could be useful to plot them for sharing. The library implements a subpackage `plot` that easily plots data from results files.\n",
    "\n",
    "## How to export data\n",
    "\n",
    "First of all, let's do a simple experiment with default parameters."
   ]
  },
  {
   "cell_type": "code",
   "execution_count": null,
   "id": "907dc186",
   "metadata": {},
   "outputs": [],
   "source": [
    "from sumo_experiments import Experiment\n",
    "from sumo_experiments.preset_networks import OneCrossroadNetwork\n",
    "\n",
    "net = OneCrossroadNetwork()\n",
    "exp = Experiment(\n",
    "    name = 'exports_and_plots',\n",
    "    infrastructures = net.generate_infrastructures,\n",
    "    flows = net.generate_flows_all_directions\n",
    ")\n",
    "exp.set_parameter('simulation_duration', 1000)\n",
    "exp.run()"
   ]
  },
  {
   "cell_type": "markdown",
   "id": "022f1d89",
   "metadata": {},
   "source": [
    "This script defines a SUMO network with only one intersection, managed by traffic lights, with flows coming from all directions, and leaving network by one of the three exits (a vehicle can't turn back). We set the `simulation_time` parameter to 1000, which implies that the simulation will end at 1000 steps.\n",
    "\n",
    "We now have, in the current folder, a file `summary.xml`. This file contains data about all network like the mean waiting time of all vehicles, the mean speed or the mean travel time. This file is in XML format, but the `export_results_to_csv` method from the Experiment class will automatically transform it into a CSV file.\n",
    "\n",
    "***Note :** The `summary.xml` file is deleted by default by the `clean_files` method. You can except this file by setting the parameter `except_summary` to `True`. However, we suggest you to first export all data and then delete all the files.* "
   ]
  },
  {
   "cell_type": "code",
   "execution_count": null,
   "id": "dd50b0a1",
   "metadata": {},
   "outputs": [],
   "source": [
    "exp.export_results_to_csv(\n",
    "    filename = 'results.csv',\n",
    "    sampling_rate = 50\n",
    ")\n",
    "exp.clean_files()"
   ]
  },
  {
   "cell_type": "markdown",
   "id": "090c5cf4",
   "metadata": {},
   "source": [
    "This method has two parameters :\n",
    "- `filename` is the name of the created CSV file.\n",
    "- `sampling_rate` is the the frequency of data export. For example, with a value of 50, the method will export the data at step 50, 100, 150, etc.\n",
    "\n",
    "The CSV format is as following : each line represents an experiment, and not a sample. Samples are added in the columns. Here is a visual demonstration.\n",
    "\n",
    "***Note :** We don't like that much this export format and it will probably be changed soon. It was originally adapted to be used with machine learning algorithms.*"
   ]
  },
  {
   "cell_type": "code",
   "execution_count": null,
   "id": "bfe6e1e2",
   "metadata": {},
   "outputs": [],
   "source": [
    "import pandas as pd\n",
    "\n",
    "data = pd.read_csv('results.csv')\n",
    "data"
   ]
  },
  {
   "cell_type": "markdown",
   "id": "c7043d33",
   "metadata": {},
   "source": [
    "The behaviour of the `export_results_to_csv` function is to __append__ data to the file. It __does not overwrite__ the file. Let's generate another `results.csv` file, with the results of multiple experiments."
   ]
  },
  {
   "cell_type": "code",
   "execution_count": null,
   "id": "477695b5",
   "metadata": {},
   "outputs": [],
   "source": [
    "!rm results.csv\n",
    "\n",
    "green_times = [10, 20, 30, 40, 50, 60]\n",
    "\n",
    "for green_time in green_times:\n",
    "    \n",
    "    exp = Experiment(\n",
    "        name = f'exports_and_plots_{green_time}',\n",
    "        infrastructures = net.generate_infrastructures,\n",
    "        flows = net.generate_flows_all_directions\n",
    "    )\n",
    "    \n",
    "    exp.set_parameter('green_time', green_time)\n",
    "    exp.set_parameter('simulation_duration', 1000)\n",
    "    \n",
    "    exp.run()\n",
    "    \n",
    "    exp.export_results_to_csv(\n",
    "        filename = 'results.csv',\n",
    "        sampling_rate = 50\n",
    "    )\n",
    "    \n",
    "    exp.clean_files()"
   ]
  },
  {
   "cell_type": "code",
   "execution_count": null,
   "id": "56b85a96",
   "metadata": {
    "scrolled": true
   },
   "outputs": [],
   "source": [
    "data = pd.read_csv('results.csv')\n",
    "data"
   ]
  },
  {
   "cell_type": "markdown",
   "id": "bd699d4e",
   "metadata": {},
   "source": [
    "As you can see, the function appends data to the file. You can also see that the new parameter `green_time` has been added to the columns. The purpose of this export is to store data from comparable experiments, with __the same parameters__. If you try to export experiments with different parameters, the file will become unreadable for most of the spreadsheet softwares.\n",
    "\n",
    "***Note :** It could be possible to store data with different parameters with a non-matrix format, like JSON or the original XML export format. We plan to create an export function in various other formats.*"
   ]
  },
  {
   "cell_type": "markdown",
   "id": "e96b6c8e",
   "metadata": {},
   "source": [
    "## How to plot data"
   ]
  },
  {
   "cell_type": "markdown",
   "id": "cc116442",
   "metadata": {},
   "source": [
    "In this part, we'll see how to plot the exported data. The library implements a subpackage `plot` which contains a `ResultsPlotter` class. The class implements different methods to plot the mean wainting time, the mean travel time and the mean speed, for all vehicles.\n",
    "\n",
    "***Note :** Some other functions are planned for the next updates.*\n",
    "\n",
    "To plot the results, you first have to instanciate the class with some parameters :\n",
    "- The path to the CSV file\n",
    "- The sampling rate of export\n",
    "- The number of simulation steps\n",
    "- A folder where to save plots"
   ]
  },
  {
   "cell_type": "code",
   "execution_count": null,
   "id": "64dc5067",
   "metadata": {},
   "outputs": [],
   "source": [
    "from sumo_experiments.plot import ResultsPlotter\n",
    "\n",
    "rp = ResultsPlotter(\n",
    "    file = 'results.csv',\n",
    "    sampling_rate = 50,\n",
    "    max_ticks = 1000,\n",
    "    save_folder = '.'\n",
    ")"
   ]
  },
  {
   "cell_type": "markdown",
   "id": "22d1d12b",
   "metadata": {},
   "source": [
    "Once the ResultsPlotter created, you can use its methods to create plots. Here is the current list :\n",
    "- `plot_mean_waiting_time_n_worst` : Plot the evolution of mean waiting time for the experiments with the worst results\n",
    "- `plot_mean_waiting_time_n_best` : Plot the evolution of mean waiting time for the experiments with the best results\n",
    "- `plot_mean_travel_time_n_worst` : Plot the evolution of mean travel time for the experiments with the worst results\n",
    "- `plot_mean_travel_time_n_best` : Plot the evolution of mean travel time for the experiments with the best results\n",
    "- `plot_mean_speed_n_worst` : Plot the evolution of mean speed for the experiments with the worst results\n",
    "- `plot_mean_speed_n_best` : Plot the evolution of mean speed for the experiments with the best results\n",
    "- `plot_all` : Execute all of the previous methods"
   ]
  },
  {
   "cell_type": "code",
   "execution_count": null,
   "id": "c2352e51",
   "metadata": {},
   "outputs": [],
   "source": [
    "rp.plot_mean_waiting_time_n_best(n=3)"
   ]
  },
  {
   "cell_type": "code",
   "execution_count": null,
   "id": "8ed0fd79",
   "metadata": {},
   "outputs": [],
   "source": [
    "rp.plot_all(n_best=2, n_worst=2)"
   ]
  },
  {
   "cell_type": "code",
   "execution_count": null,
   "id": "5150392e",
   "metadata": {},
   "outputs": [],
   "source": [
    "!rm results.csv"
   ]
  },
  {
   "cell_type": "markdown",
   "id": "77f638e8",
   "metadata": {},
   "source": [
    "In the next tutorial, we'll learn how to fully use the pre-set networks of the library to run experiments."
   ]
  }
 ],
 "metadata": {
  "kernelspec": {
   "display_name": "Python 3 (ipykernel)",
   "language": "python",
   "name": "python3"
  },
  "language_info": {
   "codemirror_mode": {
    "name": "ipython",
    "version": 3
   },
   "file_extension": ".py",
   "mimetype": "text/x-python",
   "name": "python",
   "nbconvert_exporter": "python",
   "pygments_lexer": "ipython3",
   "version": "3.10.12"
  }
 },
 "nbformat": 4,
 "nbformat_minor": 5
}
