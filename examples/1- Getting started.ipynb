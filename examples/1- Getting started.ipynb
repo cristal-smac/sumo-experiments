{
 "cells": [
  {
   "cell_type": "markdown",
   "id": "bd3a37b4",
   "metadata": {
    "collapsed": true
   },
   "source": [
    "# Getting started\n",
    "\n",
    "The aim of this tutorial is to teach you how to use the sumo-experiments library. First, we'll explain the logic behind creating a simulation, then we'll create one from the pre-parameterized networks available from the library.\n",
    "\n",
    "## How to create a simulation\n",
    "\n",
    "The sumo-experiments library has been designed as a scientific framework, to enable SUMO simulations to be run quickly and reproducibly. It is made up of a set of classes that aims to create a simulation, called here experiment.\n",
    "\n",
    "A SUMO network must be made up of at least two elements: a set of infrastructures, and a set of vehicle flows. It can be completed by optional elements, such as the addition of cyclists, detectors or pedestrians. To launch a simulation, you must first instantiate generators for each of these elements.\n",
    "\n",
    "Once these elements have been instantiated, you can create an experience, in which you add them as parameters. You then configure the experiment with the parameters of your choice, and you're ready to go. Once the experiment is complete, you can extract the results in CSV format, and even plot them. \n",
    "\n",
    "The diagram below summarizes the steps involved in creating an experiment."
   ]
  },
  {
   "cell_type": "markdown",
   "id": "8cac04be",
   "metadata": {},
   "source": [
    "<img src=\"../images/library_operation.png\" style=\"height:500px\" />"
   ]
  },
  {
   "cell_type": "markdown",
   "id": "e4eb6989",
   "metadata": {},
   "source": [
    "## Create your first experiment\n",
    "\n",
    "In this section, we'll make our first SUMO experiment. We'll use a pre-set network from the library to instanciate all the elements of the network. We'll be taking a closer look at pre-set networks in the following tutorials.\n",
    "\n",
    "The first step is to import the library into your environment. Be sure that sumo-experiments is already intalled with pip. \n",
    "\n",
    ">***Note :** Matplotlib 3.8.0 shows some issues to be imported. You can have this error when running the code below :*\n",
    ">```\n",
    "\"cannot import name 'docstring' from 'matplotlib'\"\n",
    ">```\n",
    "*If you are in this situation, please execute the following commands in your terminal.*\n",
    ">```\n",
    "sudo apt remove python3-matplotlib\n",
    "pip uninstall matplotlib\n",
    "pip install matplotlib\n",
    ">```\n",
    "\n",
    "> *reference : https://github.com/matplotlib/matplotlib/issues/26827*"
   ]
  },
  {
   "cell_type": "code",
   "execution_count": 6,
   "id": "a7e1a8a8",
   "metadata": {},
   "outputs": [],
   "source": [
    "import sumo_experiments as sumexp"
   ]
  },
  {
   "cell_type": "markdown",
   "id": "f5f1b4ce",
   "metadata": {},
   "source": [
    "Then, we instanciate a pre-set network from the preset_network package."
   ]
  },
  {
   "cell_type": "code",
   "execution_count": 7,
   "id": "c90fce46",
   "metadata": {},
   "outputs": [],
   "source": [
    "network = sumexp.preset_networks.OneCrossroadNetwork()"
   ]
  },
  {
   "cell_type": "markdown",
   "id": "552a7fb0",
   "metadata": {},
   "source": [
    "The OneCrossroadNetwork class contains functions that generates infrastructures, flows and some other features to build the configuration files of a SUMO simulation.\n",
    "\n",
    "These functions include the `generate_infrastructures` function, that returns a InfrastructureBuilder object that contains all of the physical elements of the network (nodes, edges, connections, etc), and the `generate_flows_all_directions` function, that returns a FlowBuilder object containing vehicle flows able to go to any direction at the intersection.\n",
    "\n",
    "The next step is to build the Experiment."
   ]
  },
  {
   "cell_type": "code",
   "execution_count": 8,
   "id": "10a38e2c",
   "metadata": {},
   "outputs": [],
   "source": [
    "experiment = sumexp.Experiment(\n",
    "    name = 'first_tutorial',\n",
    "    infrastructures = network.generate_infrastructures,\n",
    "    flows = network.generate_flows_all_directions\n",
    ")"
   ]
  },
  {
   "cell_type": "markdown",
   "id": "a3e95254",
   "metadata": {},
   "source": [
    "**Important :** Note that the parameters are not the results of functions `generate_infrastructures` and `generate_flows_all_directions`, but __the functions themselves__. This is a choice we made because we want the Experiment class to build these objects, with a customized configuration for more complex networks.\n",
    "\n",
    "The experiment is now created, but we can still configure it with customized parameters. We use the `set_parameter` method to set a parameter of the experiment. The parameters are related to the generate functions that you use to instanciate the experiment. Here, the pre-set functions are used, but if you create your own functions, parameters could not be the same as what follows. You can get the full list of pre-set networks parameters in the next tutorial."
   ]
  },
  {
   "cell_type": "code",
   "execution_count": 14,
   "id": "f555bdb5",
   "metadata": {},
   "outputs": [],
   "source": [
    "experiment.set_parameter('lane_length', 150)\n",
    "experiment.set_parameter('max_speed', 30)\n",
    "experiment.set_parameter('flow_frequency', 100)\n",
    "experiment.set_parameter('green_time_north_south', 15)\n",
    "experiment.set_parameter('green_time_west_east', 45)\n",
    "experiment.set_parameter('yellow_time', 3)\n",
    "experiment.set_parameter('stop_generation_time', 900)\n",
    "experiment.set_parameter('distribution', 'binomial')\n",
    "experiment.set_parameter('simulation_duration', 1000)"
   ]
  },
  {
   "cell_type": "markdown",
   "id": "c6c46b9c",
   "metadata": {},
   "source": [
    "First, we set the length of the edges to 150 meters, and we set the max speed of the vehicles to 30 km/h. Then, we set the flow frequency to 100 vehicles per hour for all entry of network. We also set the green-phase duration for the north/south and the west/east directions, respectively 15 and 45 seconds, and the yellow time to 3 seconds. We then select the 900th step simulation to be the one when flows will stop. The simulation will end at the 1000th simulation step.\n",
    "\n",
    "***Note :** Since the 2.0.0 version, experiments need to set every required parameter to run the choosen methods. Default configurations have been deleted to reduce incomprehensible network behaviours. You can check the full parameter list in the next section.*\n",
    "\n",
    "The experiment is now configured, we can run it. The `run` method has a `gui` parameter. If set to `True`, the experiment will be launched in graphical mode with SUMO GUI."
   ]
  },
  {
   "cell_type": "code",
   "execution_count": 15,
   "id": "7a8aa95f",
   "metadata": {},
   "outputs": [
    {
     "name": "stderr",
     "output_type": "stream",
     "text": [
      "Warning: Speed of turning connection 'edge_nc_0->edge_cw_0' reduced by 23.49 due to turning radius of 7.70 (length=9.03, angle=90.00).\n",
      "Warning: Speed of turning connection 'edge_ec_0->edge_cn_0' reduced by 23.49 due to turning radius of 7.70 (length=9.03, angle=90.00).\n",
      "Warning: Speed of turning connection 'edge_sc_0->edge_ce_0' reduced by 23.49 due to turning radius of 7.70 (length=9.03, angle=90.00).\n",
      "Warning: Speed of turning connection 'edge_wc_0->edge_cs_0' reduced by 23.49 due to turning radius of 7.70 (length=9.03, angle=90.00).\n",
      "Warning: Speed of turning connection 'edge_nc_0->edge_cw_0' reduced by 23.49 due to turning radius of 7.70 (length=9.03, angle=90.00).\n",
      "Warning: Speed of turning connection 'edge_ec_0->edge_cn_0' reduced by 23.49 due to turning radius of 7.70 (length=9.03, angle=90.00).\n",
      "Warning: Speed of turning connection 'edge_sc_0->edge_ce_0' reduced by 23.49 due to turning radius of 7.70 (length=9.03, angle=90.00).\n",
      "Warning: Speed of turning connection 'edge_wc_0->edge_cs_0' reduced by 23.49 due to turning radius of 7.70 (length=9.03, angle=90.00).\n"
     ]
    },
    {
     "name": "stdout",
     "output_type": "stream",
     "text": [
      "Success.\n",
      "Success.\n"
     ]
    }
   ],
   "source": [
    "experiment.run(gui=True)"
   ]
  },
  {
   "cell_type": "markdown",
   "id": "d12f38d0",
   "metadata": {},
   "source": [
    "As we said in the introduction, sumo-experiment has been created to produce easily reproducible simulations. The run function implements a parameter `seed` that is the seed that randomly send vehicle in the network, for each flow, with the binomial `distribution`. If you don't set the `seed`, simulation seed will be generated randomly. Then, you can reproduce to exact same traffic scenarios when you fix the seed to the same value. Try it starting multiple time the experiment without seed, and with a fixed seed. "
   ]
  },
  {
   "cell_type": "code",
   "execution_count": 16,
   "id": "1a5e18cb",
   "metadata": {},
   "outputs": [
    {
     "name": "stderr",
     "output_type": "stream",
     "text": [
      "Warning: Speed of turning connection 'edge_nc_0->edge_cw_0' reduced by 23.49 due to turning radius of 7.70 (length=9.03, angle=90.00).\n",
      "Warning: Speed of turning connection 'edge_ec_0->edge_cn_0' reduced by 23.49 due to turning radius of 7.70 (length=9.03, angle=90.00).\n",
      "Warning: Speed of turning connection 'edge_sc_0->edge_ce_0' reduced by 23.49 due to turning radius of 7.70 (length=9.03, angle=90.00).\n",
      "Warning: Speed of turning connection 'edge_wc_0->edge_cs_0' reduced by 23.49 due to turning radius of 7.70 (length=9.03, angle=90.00).\n",
      "Warning: Speed of turning connection 'edge_nc_0->edge_cw_0' reduced by 23.49 due to turning radius of 7.70 (length=9.03, angle=90.00).\n",
      "Warning: Speed of turning connection 'edge_ec_0->edge_cn_0' reduced by 23.49 due to turning radius of 7.70 (length=9.03, angle=90.00).\n",
      "Warning: Speed of turning connection 'edge_sc_0->edge_ce_0' reduced by 23.49 due to turning radius of 7.70 (length=9.03, angle=90.00).\n",
      "Warning: Speed of turning connection 'edge_wc_0->edge_cs_0' reduced by 23.49 due to turning radius of 7.70 (length=9.03, angle=90.00).\n"
     ]
    },
    {
     "name": "stdout",
     "output_type": "stream",
     "text": [
      "Success.\n",
      "Success.\n"
     ]
    }
   ],
   "source": [
    "experiment.run(gui=True, seed=42)"
   ]
  },
  {
   "cell_type": "markdown",
   "id": "edb2438c",
   "metadata": {},
   "source": [
    "You can see that some files have been generated in the current folder. They are the configuration files for the simulation. They __are not__ deleted at the end of the experiment, but you can delete all of them with the `clean_files` method from the Experiment."
   ]
  },
  {
   "cell_type": "code",
   "execution_count": 17,
   "id": "1c229bf2",
   "metadata": {},
   "outputs": [],
   "source": [
    "experiment.clean_files()"
   ]
  },
  {
   "cell_type": "markdown",
   "id": "b2b99555",
   "metadata": {},
   "source": [
    "**You now have the basis to run a simulation with the sumo-experiments framework. In the next tutorial, we'll see how to use the pre-set networks to quickly run simulations with common networks.**"
   ]
  }
 ],
 "metadata": {
  "kernelspec": {
   "display_name": "Python 3 (ipykernel)",
   "language": "python",
   "name": "python3"
  },
  "language_info": {
   "codemirror_mode": {
    "name": "ipython",
    "version": 3
   },
   "file_extension": ".py",
   "mimetype": "text/x-python",
   "name": "python",
   "nbconvert_exporter": "python",
   "pygments_lexer": "ipython3",
   "version": "3.10.12"
  }
 },
 "nbformat": 4,
 "nbformat_minor": 5
}
