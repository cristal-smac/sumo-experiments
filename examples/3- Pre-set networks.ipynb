{
 "cells": [
  {
   "cell_type": "markdown",
   "id": "0807871a",
   "metadata": {},
   "source": [
    "# Pre-set networks\n",
    "\n",
    "To speed up experimentation, but above all to ensure better reproducibility of experiments, pre-designed networks have been implemented in sumo-experiments. There are currently three types of pre-designed network :\n",
    "- A network composed with only one intersection (OneCrossroadNetwork)\n",
    "- A network composed with two intersections (TwoCrossroadsNetwork)\n",
    "- A network composed of $n$ crossroads arranged in a square (SquareNetwork)\n",
    "\n",
    "Each network is represented by a class in the `preset_networks` package. The classes contains methods that generates infrastructures, flows, and all add-ons that can be added to a network.\n",
    "\n",
    "***Note :** For now, only detectors can be added to a pre-set network. Adding new features is one of our priority.*\n",
    "\n",
    "Let's see how we create a simulation with a pre-set network. Wi will use the `OneCrossroadNetwork` to do this.\n",
    "\n",
    "First, we must instanciate the preset network."
   ]
  },
  {
   "cell_type": "code",
   "execution_count": null,
   "id": "08b949b7",
   "metadata": {},
   "outputs": [],
   "source": [
    "from sumo_experiments.preset_networks import OneCrossroadNetwork\n",
    "\n",
    "network = OneCrossroadNetwork()"
   ]
  },
  {
   "cell_type": "markdown",
   "id": "fa0c956b",
   "metadata": {},
   "source": [
    "## Pre-set functions"
   ]
  },
  {
   "cell_type": "markdown",
   "id": "8a36a736",
   "metadata": {},
   "source": [
    "### Infrastructures\n",
    "\n",
    "Each class contains one and only one method that generates infrastructures (`generate_infrastructures`). It is the function that you must use to create an Experiment. This function return an `InfrastructureBuilder` object, containing all the infrastructures needed for the definition of the network (nodes, edges, connections, traffic light programs). Thus, in this example with the `OneCrossroadNetwork`, the function will return an object containing 5 nodes (including 1 traffic light), 8 edges (4 * 2 directions), and 12 connections."
   ]
  },
  {
   "cell_type": "code",
   "execution_count": null,
   "id": "73bbe2be",
   "metadata": {},
   "outputs": [],
   "source": [
    "type(network.generate_infrastructures())"
   ]
  },
  {
   "cell_type": "markdown",
   "id": "167f4aa7",
   "metadata": {},
   "source": [
    "### Flows\n",
    "\n",
    "Each class contains three methods to define flows for the network :\n",
    "- The `generate_flows_only_ahead` method generates vehicles that can't turn in the intersections. They can only go ahead.\n",
    "- The `generate_flows_all_directions` method generates vehicles that can go into any direction in the intersections (except turning back). The vehicle repartition for all directions is uniform.\n",
    "- The `generate_flows_with_matrix` method generate variable flows over time that can go anywhere in the intersections. We'll see this in a future section.\n",
    "\n",
    "Each method returns a `FlowBuilder` object containing all the flows and informations about it (flow entry, exit, density, vehicle type)."
   ]
  },
  {
   "cell_type": "code",
   "execution_count": null,
   "id": "8093131a",
   "metadata": {},
   "outputs": [],
   "source": [
    "type(network.generate_flows_only_ahead())"
   ]
  },
  {
   "cell_type": "markdown",
   "id": "b76c3d3d",
   "metadata": {},
   "source": [
    "Let's do some graphical experiments to show you the difference between the `generate_flows_only_ahead` and the `generate_flows_all_directions`."
   ]
  },
  {
   "cell_type": "code",
   "execution_count": null,
   "id": "bffab841",
   "metadata": {},
   "outputs": [],
   "source": [
    "from sumo_experiments import Experiment\n",
    "\n",
    "exp_only_ahead = Experiment(\n",
    "    name = 'only_ahead',\n",
    "    infrastructures = network.generate_infrastructures,\n",
    "    flows = network.generate_flows_only_ahead\n",
    ")\n",
    "\n",
    "exp_all_directions = Experiment(\n",
    "    name = 'all_directions',\n",
    "    infrastructures = network.generate_infrastructures,\n",
    "    flows = network.generate_flows_all_directions\n",
    ")\n",
    "\n",
    "exp_only_ahead.run(gui = True)\n",
    "exp_all_directions.run(gui = True)\n",
    "\n",
    "exp_only_ahead.clean_files()\n",
    "exp_all_directions.clean_files()"
   ]
  },
  {
   "cell_type": "markdown",
   "id": "12eba27a",
   "metadata": {},
   "source": [
    "### Detectors\n",
    "\n",
    "Optionally, you can add detectors to the intersections of a network to adapt their operation to the traffic. While detectors can be added when generating the pre-set network, adapting the behavior of traffic lights is more complex and will be the subject of another tutorial.\n",
    "\n",
    "Each pre-set network has two methods to generate detectors :\n",
    "- `generate_boolean_detectors` generates short-range detectors that check if a car is its range or not.\n",
    "- `generate_numerical_detectors` generates long-range detectors (all of the edge) that are supposed to count vehicles that are on its range.\n",
    "\n",
    "The detectors generates data that can be used by the TraCi library to modify the traffic lights behaviour.\n",
    "\n",
    "To add detectors to a network, just add the `detectors` parameter to an experiment, with the right function to use to generate it."
   ]
  },
  {
   "cell_type": "code",
   "execution_count": null,
   "id": "c6a8e435",
   "metadata": {},
   "outputs": [],
   "source": [
    "exp_detectors = Experiment(\n",
    "    name = 'detectors',\n",
    "    infrastructures = network.generate_infrastructures,\n",
    "    flows = network.generate_flows_all_directions,\n",
    "    detectors = network.generate_boolean_detectors\n",
    ")\n",
    "\n",
    "exp_detectors.run(gui=True)\n",
    "\n",
    "exp_detectors.clean_files()"
   ]
  },
  {
   "cell_type": "markdown",
   "id": "ee0ea11b",
   "metadata": {},
   "source": [
    "***Note :** Some other feautures should be added in the future, like pedestrians, bicycles, etc.*"
   ]
  },
  {
   "cell_type": "markdown",
   "id": "e221ad52",
   "metadata": {},
   "source": [
    "## Parameters\n",
    "\n",
    "Until now, we only used pre-set networks with default parameters. It's possible to configure each of the network with some parameters. In order to do so, we must use the `set_parameter` method from the `Experiment` class. Parameters are added into a dictionnary in the `Experiment` object. Then, you can add paremeters in the order you  want. You can also add parameters that can not be use by the pre-set functions. In this case, the `run` method will return a warning when called.\n",
    "\n",
    "Here is a short example on how to configure the maximum duration of a simulation, with the parameter `simulation_duration`."
   ]
  },
  {
   "cell_type": "code",
   "execution_count": null,
   "id": "2892282d",
   "metadata": {},
   "outputs": [],
   "source": [
    "exp_parameters = Experiment(\n",
    "    name = 'parameters',\n",
    "    infrastructures = network.generate_infrastructures,\n",
    "    flows = network.generate_flows_all_directions\n",
    ")\n",
    "\n",
    "exp_parameters.set_parameter('simulation_duration', 2000)\n",
    "\n",
    "exp_parameters.run()\n",
    "\n",
    "exp_parameters.clean_files()"
   ]
  },
  {
   "cell_type": "markdown",
   "id": "1990e8e3",
   "metadata": {},
   "source": [
    "Each pre-set network has its own parameters, with some in common with other networks. Here is a list for each of the pre-set networks implemented.\n",
    "\n",
    "### OneCrossroadNetwork\n",
    "\n",
    "#### Infrastructures\n",
    "\n",
    "- `lane_length` (int) : The default length for each lane (in meters)\n",
    "- `north_length` (int) : The north lane length (in meters), override default\n",
    "- `east_length` (int) : The east lane length (in meters), override default\n",
    "- `south_length` (int) : The south lane length (in meters), override default\n",
    "- `west_length` (int) : The west lane length (in meters), override default\n",
    "- `green_time` (int) : The default green time for each phase (in seconds)\n",
    "- `green_time_north_south` (int) : The north-south phase green time (in seconds), override default\n",
    "- `green_time_west_east` (int) : The west-east phase green time (in seconds), override default\n",
    "- `yellow_time` (int) : The default yellow time for each phase (in seconds)\n",
    "- `yellow_time_north_south` (int) : The north-south phase yellow time (in seconds), override default\n",
    "- `yellow_time_west_east` (int) : The west-east phase yellow time (in seconds), override default\n",
    "- `max_speed` (float) : The max speed on each lane\n",
    "\n",
    "#### Flows\n",
    "\n",
    "- `stop_generation_time` (int) : The default simulation step when flows will end\n",
    "- `stop_generation_time_north` (int) : The simulation step when north flows will end, override default\n",
    "- `stop_generation_time_east` (int) : The simulation step when east flows will end, override default\n",
    "- `stop_generation_time_south` (int) : The simulation step when south flows will end, override default\n",
    "- `stop_generation_time_west` (int) : The simulation step when west flows will end, override default\n",
    "- `flow_density` (int) : The default flows density (in vehicles/hour)\n",
    "- `flow_density_north` (int) : The north flows density (in vehicles/hour), override default\n",
    "- `flow_density_east` (int) : The east flows density (in vehicles/hour), override default\n",
    "- `flow_density_south` (int) : The south flows density (in vehicles/hour), override default\n",
    "- `flow_density_west` (int) : The west flows density (in vehicles/hour), override default\n",
    "\n",
    "##### With matrices\n",
    "\n",
    "- `coeff_matrix` (numpy.ndarray) : The proportion of vehicles on each route\n",
    "- `load_vector` (numpy.ndarray) : The vehicle density on the network for each period\n",
    "- `period_time` (int) : The period duration (in simulation steps)\n",
    "\n",
    "#### Detectors\n",
    "\n",
    "- `boolean_detector_length` (float) : The scope size of the detectors"
   ]
  },
  {
   "cell_type": "markdown",
   "id": "f9f96d1d",
   "metadata": {},
   "source": [
    "### TwoCrossroadsNetwork\n",
    "\n",
    "#### Infrastructures\n",
    "\n",
    "- `lane_length` (int) : The default length for each lane (in meters)\n",
    "- `north_1_length` (int) : The north lane length (in meters) for intersection 1, override default\n",
    "- `north_2_length` (int) : The north lane length (in meters) for intersection 2, override default\n",
    "- `east_length` (int) : The east lane length (in meters), override default\n",
    "- `south_1_length` (int) : The south lane length (in meters) for intersection 1, override default\n",
    "- `south_2_length` (int) : The south lane length (in meters) for intersection 2, override default\n",
    "- `west_length` (int) : The west lane length (in meters), override default\n",
    "- `center_length` (int): The center lane length (in meters), override default\n",
    "- `green_time` (int) : The default green time for each phase (in seconds)\n",
    "- `green_time_north_south_1` (int) : The north-south phase green time (in seconds) for intersection 1, override default\n",
    "- `green_time_north_south_2` (int) : The north-south phase green time (in seconds) for intersection 2, override default\n",
    "- `green_time_west_east_1` (int) : The west-east phase green time (in seconds) for intersection 1, override default\n",
    "- `green_time_west_east_2` (int) : The west-east phase green time (in seconds) for intersection 2, override default\n",
    "- `yellow_time` (int) : The default yellow time for each phase (in seconds)\n",
    "- `yellow_time_north_south_1` (int) : The north-south phase yellow time (in seconds) for intersection 1, override default\n",
    "- `yellow_time_north_south_2` (int) : The north-south phase yellow time (in seconds) for intersection 2, override default\n",
    "- `yellow_time_west_east_1` (int) : The west-east phase yellow time (in seconds) for intersection 1, override default\n",
    "- `yellow_time_west_east_2` (int) : The west-east phase yellow time (in seconds) for intersection 2, override default\n",
    "- `max_speed` (float) : The max speed on each lane\n",
    "\n",
    "#### Flows\n",
    "\n",
    "- `stop_generation_time` (int) : The default simulation step when flows will end\n",
    "- `stop_generation_time_north_1` (int) : The simulation step when north flows will end for intersection 1, override default\n",
    "- `stop_generation_time_north_2` (int) : The simulation step when north flows will end for intersection 2, override default\n",
    "- `stop_generation_time_east` (int) : The simulation step when east flows will end, override default\n",
    "- `stop_generation_time_south_1` (int) : The simulation step when south flows will end for intersection 1, override default\n",
    "- `stop_generation_time_south_2` (int) : The simulation step when south flows will end for intersection 2, override default\n",
    "- `stop_generation_time_west` (int) : The simulation step when west flows will end, override default\n",
    "- `flow_density` (int) : The default flows density (in vehicles/hour)\n",
    "- `flow_density_north_1` (int) : The north flows density (in vehicles/hour) for intersection 1, override default\n",
    "- `flow_density_north_2` (int) : The north flows density (in vehicles/hour) for intersection 2, override default\n",
    "- `flow_density_east` (int) : The east flows density (in vehicles/hour), override default\n",
    "- `flow_density_south_1` (int) : The south flows density (in vehicles/hour) for intersection 1, override default\n",
    "- `flow_density_south_2` (int) : The south flows density (in vehicles/hour) for intersection 2, override default\n",
    "- `flow_density_west` (int) : The west flows density (in vehicles/hour), override default\n",
    "\n",
    "##### With matrices\n",
    "\n",
    "- `coeff_matrix` (numpy.ndarray) : The proportion of vehicles on each route\n",
    "- `load_vector` (numpy.ndarray) : The vehicle density on the network for each period\n",
    "- `period_time` (int) : The period duration (in simulation steps)\n",
    "\n",
    "#### Detectors\n",
    "\n",
    "- `boolean_detector_length` (float) : The scope size of the detectors"
   ]
  },
  {
   "cell_type": "markdown",
   "id": "d5b7810e",
   "metadata": {},
   "source": [
    "### SquareNetwork\n",
    "\n",
    "#### Infrastructures\n",
    "\n",
    "- `lane_length` (int) : The length of all edges (in meters)\n",
    "- `green_time` (int) : The default green time for each phase (in seconds)\n",
    "- `yellow_time` (int) : The default yellow time for each phase (in seconds)lt\n",
    "- `max_speed` (float) : The max speed on each lane\n",
    "- `square_side_length` (int) : The number of intersections that compose a side of the square\n",
    "\n",
    "##### For random square network\n",
    "\n",
    "- `minimum_edge_length` (int) : The minimum length of an edge (in meters)\n",
    "- `maximum_edge_length` (int) : The maximum length of an edge (in meters)\n",
    "\n",
    "#### Flows\n",
    "\n",
    "- `stop_generation_time` (int) : The default simulation step when flows will end\n",
    "- `flow_density` (int) : The default flows density (in vehicles/hour)\n",
    "\n",
    "##### With matrices\n",
    "\n",
    "- `coeff_matrix` (numpy.ndarray) : The proportion of vehicles on each route\n",
    "- `load_vector` (numpy.ndarray) : The vehicle density on the network for each period\n",
    "- `period_time` (int) : The period duration (in simulation steps)\n",
    "\n",
    "#### Detectors\n",
    "\n",
    "- `boolean_detector_length` (float) : The scope size of the detectors"
   ]
  },
  {
   "cell_type": "markdown",
   "id": "b4115eec",
   "metadata": {},
   "source": [
    "In the next tutorial, we'll see how to create experiments with variable flows, using the `generate_flows_with_matrix` from a pre-set network object."
   ]
  }
 ],
 "metadata": {
  "kernelspec": {
   "display_name": "Python 3 (ipykernel)",
   "language": "python",
   "name": "python3"
  },
  "language_info": {
   "codemirror_mode": {
    "name": "ipython",
    "version": 3
   },
   "file_extension": ".py",
   "mimetype": "text/x-python",
   "name": "python",
   "nbconvert_exporter": "python",
   "pygments_lexer": "ipython3",
   "version": "3.10.12"
  }
 },
 "nbformat": 4,
 "nbformat_minor": 5
}
